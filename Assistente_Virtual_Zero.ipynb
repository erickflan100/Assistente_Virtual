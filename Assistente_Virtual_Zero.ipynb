{
  "nbformat": 4,
  "nbformat_minor": 0,
  "metadata": {
    "colab": {
      "provenance": [],
      "gpuType": "T4",
      "authorship_tag": "ABX9TyMI3tpNYgI3woHzgdZaNuZQ",
      "include_colab_link": true
    },
    "kernelspec": {
      "name": "python3",
      "display_name": "Python 3"
    },
    "language_info": {
      "name": "python"
    },
    "accelerator": "GPU"
  },
  "cells": [
    {
      "cell_type": "markdown",
      "metadata": {
        "id": "view-in-github",
        "colab_type": "text"
      },
      "source": [
        "<a href=\"https://colab.research.google.com/github/erickflan100/Assistente_Virtual/blob/main/Assistente_Virtual_Zero.ipynb\" target=\"_parent\"><img src=\"https://colab.research.google.com/assets/colab-badge.svg\" alt=\"Open In Colab\"/></a>"
      ]
    },
    {
      "cell_type": "code",
      "source": [
        "!pip install gTTS\n",
        "!pip install SpeechRecognition\n",
        "!pip install playsound\n",
        "!pip install pyjokes\n",
        "!pip install wikipedia\n",
        "!pip install pipwin\n",
        "!pip install pycopy-webbrowser\n",
        "!pip install pyaudio\n",
        "!pip install winshell"
      ],
      "metadata": {
        "colab": {
          "base_uri": "https://localhost:8080/"
        },
        "id": "j6H_W83YxpFy",
        "outputId": "ca93ae95-09db-4725-ac74-cbd4519ed6be"
      },
      "execution_count": null,
      "outputs": [
        {
          "output_type": "stream",
          "name": "stdout",
          "text": [
            "Requirement already satisfied: gTTS in /usr/local/lib/python3.11/dist-packages (2.5.4)\n",
            "Requirement already satisfied: requests<3,>=2.27 in /usr/local/lib/python3.11/dist-packages (from gTTS) (2.32.3)\n",
            "Requirement already satisfied: click<8.2,>=7.1 in /usr/local/lib/python3.11/dist-packages (from gTTS) (8.1.8)\n",
            "Requirement already satisfied: charset-normalizer<4,>=2 in /usr/local/lib/python3.11/dist-packages (from requests<3,>=2.27->gTTS) (3.4.1)\n",
            "Requirement already satisfied: idna<4,>=2.5 in /usr/local/lib/python3.11/dist-packages (from requests<3,>=2.27->gTTS) (3.10)\n",
            "Requirement already satisfied: urllib3<3,>=1.21.1 in /usr/local/lib/python3.11/dist-packages (from requests<3,>=2.27->gTTS) (2.3.0)\n",
            "Requirement already satisfied: certifi>=2017.4.17 in /usr/local/lib/python3.11/dist-packages (from requests<3,>=2.27->gTTS) (2025.1.31)\n",
            "Requirement already satisfied: SpeechRecognition in /usr/local/lib/python3.11/dist-packages (3.14.1)\n",
            "Requirement already satisfied: typing-extensions in /usr/local/lib/python3.11/dist-packages (from SpeechRecognition) (4.12.2)\n",
            "Requirement already satisfied: playsound in /usr/local/lib/python3.11/dist-packages (1.3.0)\n",
            "Requirement already satisfied: pyjokes in /usr/local/lib/python3.11/dist-packages (0.8.3)\n",
            "Requirement already satisfied: wikipedia in /usr/local/lib/python3.11/dist-packages (1.4.0)\n",
            "Requirement already satisfied: beautifulsoup4 in /usr/local/lib/python3.11/dist-packages (from wikipedia) (4.13.3)\n",
            "Requirement already satisfied: requests<3.0.0,>=2.0.0 in /usr/local/lib/python3.11/dist-packages (from wikipedia) (2.32.3)\n",
            "Requirement already satisfied: charset-normalizer<4,>=2 in /usr/local/lib/python3.11/dist-packages (from requests<3.0.0,>=2.0.0->wikipedia) (3.4.1)\n",
            "Requirement already satisfied: idna<4,>=2.5 in /usr/local/lib/python3.11/dist-packages (from requests<3.0.0,>=2.0.0->wikipedia) (3.10)\n",
            "Requirement already satisfied: urllib3<3,>=1.21.1 in /usr/local/lib/python3.11/dist-packages (from requests<3.0.0,>=2.0.0->wikipedia) (2.3.0)\n",
            "Requirement already satisfied: certifi>=2017.4.17 in /usr/local/lib/python3.11/dist-packages (from requests<3.0.0,>=2.0.0->wikipedia) (2025.1.31)\n",
            "Requirement already satisfied: soupsieve>1.2 in /usr/local/lib/python3.11/dist-packages (from beautifulsoup4->wikipedia) (2.6)\n",
            "Requirement already satisfied: typing-extensions>=4.0.0 in /usr/local/lib/python3.11/dist-packages (from beautifulsoup4->wikipedia) (4.12.2)\n",
            "Requirement already satisfied: pipwin in /usr/local/lib/python3.11/dist-packages (0.5.2)\n",
            "Requirement already satisfied: docopt in /usr/local/lib/python3.11/dist-packages (from pipwin) (0.6.2)\n",
            "Requirement already satisfied: requests in /usr/local/lib/python3.11/dist-packages (from pipwin) (2.32.3)\n",
            "Requirement already satisfied: pyprind in /usr/local/lib/python3.11/dist-packages (from pipwin) (2.11.3)\n",
            "Requirement already satisfied: six in /usr/local/lib/python3.11/dist-packages (from pipwin) (1.17.0)\n",
            "Requirement already satisfied: beautifulsoup4>=4.9.0 in /usr/local/lib/python3.11/dist-packages (from pipwin) (4.13.3)\n",
            "Requirement already satisfied: js2py in /usr/local/lib/python3.11/dist-packages (from pipwin) (0.74)\n",
            "Requirement already satisfied: packaging in /usr/local/lib/python3.11/dist-packages (from pipwin) (24.2)\n",
            "Requirement already satisfied: pySmartDL>=1.3.1 in /usr/local/lib/python3.11/dist-packages (from pipwin) (1.3.4)\n",
            "Requirement already satisfied: soupsieve>1.2 in /usr/local/lib/python3.11/dist-packages (from beautifulsoup4>=4.9.0->pipwin) (2.6)\n",
            "Requirement already satisfied: typing-extensions>=4.0.0 in /usr/local/lib/python3.11/dist-packages (from beautifulsoup4>=4.9.0->pipwin) (4.12.2)\n",
            "Requirement already satisfied: tzlocal>=1.2 in /usr/local/lib/python3.11/dist-packages (from js2py->pipwin) (5.3)\n",
            "Requirement already satisfied: pyjsparser>=2.5.1 in /usr/local/lib/python3.11/dist-packages (from js2py->pipwin) (2.7.1)\n",
            "Requirement already satisfied: charset-normalizer<4,>=2 in /usr/local/lib/python3.11/dist-packages (from requests->pipwin) (3.4.1)\n",
            "Requirement already satisfied: idna<4,>=2.5 in /usr/local/lib/python3.11/dist-packages (from requests->pipwin) (3.10)\n",
            "Requirement already satisfied: urllib3<3,>=1.21.1 in /usr/local/lib/python3.11/dist-packages (from requests->pipwin) (2.3.0)\n",
            "Requirement already satisfied: certifi>=2017.4.17 in /usr/local/lib/python3.11/dist-packages (from requests->pipwin) (2025.1.31)\n",
            "Collecting pycopy-webbrowser\n",
            "  Downloading pycopy-webbrowser-0.0.0.tar.gz (631 bytes)\n",
            "\u001b[31mERROR: pycopy-webbrowser from https://files.pythonhosted.org/packages/40/6f/3534aa5470f69aede4ec969a4f64981892e5bd838ea8e148d8d7ee52f1bc/pycopy-webbrowser-0.0.0.tar.gz does not appear to be a Python project: neither 'setup.py' nor 'pyproject.toml' found.\u001b[0m\u001b[31m\n",
            "\u001b[0mCollecting pyaudio\n",
            "  Using cached PyAudio-0.2.14.tar.gz (47 kB)\n",
            "  Installing build dependencies ... \u001b[?25l\u001b[?25hdone\n",
            "  Getting requirements to build wheel ... \u001b[?25l\u001b[?25hdone\n",
            "  Preparing metadata (pyproject.toml) ... \u001b[?25l\u001b[?25hdone\n",
            "Building wheels for collected packages: pyaudio\n",
            "  \u001b[1;31merror\u001b[0m: \u001b[1msubprocess-exited-with-error\u001b[0m\n",
            "  \n",
            "  \u001b[31m×\u001b[0m \u001b[32mBuilding wheel for pyaudio \u001b[0m\u001b[1;32m(\u001b[0m\u001b[32mpyproject.toml\u001b[0m\u001b[1;32m)\u001b[0m did not run successfully.\n",
            "  \u001b[31m│\u001b[0m exit code: \u001b[1;36m1\u001b[0m\n",
            "  \u001b[31m╰─>\u001b[0m See above for output.\n",
            "  \n",
            "  \u001b[1;35mnote\u001b[0m: This error originates from a subprocess, and is likely not a problem with pip.\n",
            "  Building wheel for pyaudio (pyproject.toml) ... \u001b[?25l\u001b[?25herror\n",
            "\u001b[31m  ERROR: Failed building wheel for pyaudio\u001b[0m\u001b[31m\n",
            "\u001b[0mFailed to build pyaudio\n",
            "\u001b[31mERROR: ERROR: Failed to build installable wheels for some pyproject.toml based projects (pyaudio)\u001b[0m\u001b[31m\n",
            "\u001b[0mRequirement already satisfied: winshell in /usr/local/lib/python3.11/dist-packages (0.6)\n"
          ]
        }
      ]
    },
    {
      "cell_type": "code",
      "execution_count": null,
      "metadata": {
        "colab": {
          "base_uri": "https://localhost:8080/",
          "height": 75
        },
        "id": "B9hhHEvRxk7z",
        "outputId": "fa423732-b723-4246-d9f2-8baa7bfb6649"
      },
      "outputs": [
        {
          "output_type": "execute_result",
          "data": {
            "text/plain": [
              "<IPython.lib.display.Audio object>"
            ],
            "text/html": [
              "\n",
              "                <audio  controls=\"controls\" >\n",
              "                    <source src=\"data:audio/x-wav;base64,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\" type=\"audio/x-wav\" />\n",
              "                    Your browser does not support the audio element.\n",
              "                </audio>\n",
              "              "
            ]
          },
          "metadata": {},
          "execution_count": 15
        }
      ],
      "source": [
        "from gtts import gTTS\n",
        "from IPython.display import Audio\n",
        "\n",
        "text_to_say = \"Olá, como vai Winy?.\"\n",
        "language = \"pt\"\n",
        "gtts_object = gTTS(text = text_to_say,\n",
        "                  lang = language,\n",
        "                  slow = False)\n",
        "\n",
        "gtts_object.save(\"/content/gtts.wav\")\n",
        "\n",
        "\n",
        "Audio(\"/content/gtts.wav\")"
      ]
    },
    {
      "cell_type": "code",
      "source": [
        "#import section\n",
        "import speech_recognition as sr\n",
        "from gtts import gTTS\n",
        "import os\n",
        "from datetime import datetime\n",
        "import playsound\n",
        "import pyjokes\n",
        "import wikipedia\n",
        "import pyaudio\n",
        "import webbrowser\n",
        "# import winshell\n",
        "from pygame import mixer\n",
        "\n",
        "\n",
        "#get mic audio\n",
        "def get_audio():\n",
        "    r = sr.Recognizer()\n",
        "    with sr.Microphone() as source:\n",
        "        r.pause_threshold = 1\n",
        "        # wait for a second to let the recognizer adjust the\n",
        "        # energy threshold based on the surrounding noise level\n",
        "        r.adjust_for_ambient_noise(source, duration=1)\n",
        "        audio = r.listen(source)\n",
        "        said = \"\"\n",
        "        try:\n",
        "            said = r.recognize_google(audio)\n",
        "            print(said)\n",
        "        except sr.UnknownValueError:\n",
        "            speak(\"Desculpe, Eu não entendi.\")\n",
        "        except sr.RequestError:\n",
        "            speak(\"Desculpe, serviço não disponível!\")\n",
        "    return said.lower()\n",
        "\n",
        "#speak converted audio to text\n",
        "def speak(text):\n",
        "    tts = gTTS(text=text, lang='pt')\n",
        "    filename = \"voice.mp3\"\n",
        "    try:\n",
        "        os.remove(filename)\n",
        "    except OSError:\n",
        "        pass\n",
        "    tts.save(filename)\n",
        "    playsound.playsound(filename)\n",
        "\n",
        "#function to respond to commands\n",
        "def respond(text):\n",
        "    print(\"Text from get audio \" + text)\n",
        "    if 'youtube' in text:\n",
        "        speak(\"O que você quer pesquisar no youtube?\")\n",
        "        keyword = get_audio()\n",
        "        if keyword!= '':\n",
        "            url = f\"https://www.youtube.com/results?search_query={keyword}\"\n",
        "            webbrowser.get().open(url)\n",
        "            speak(f\"Encontrei no youtube, {keyword}\")\n",
        "    elif 'wikipedia' in text:\n",
        "        speak(\"O que você quer pesquisar?\")\n",
        "        query = get_audio()\n",
        "        if query !='':\n",
        "            result = wikipedia.summary(query, sentences=3)\n",
        "            speak(\"Pesquisando na wikipedia\")\n",
        "            print(result)\n",
        "            speak(result)\n",
        "    elif 'piada' in text:\n",
        "        speak(pyjokes.get_joke())\n",
        "    elif 'limpe a lixeira' in text:\n",
        "        winshell.recycle_bin().empty(confirm=False, show_progress=False, sound=True)\n",
        "        speak(\"Lixeira limpa\")\n",
        "    elif 'que horas são' in text:\n",
        "        strTime = datetime.today().strftime(\"%H:%M %p\")\n",
        "        print(strTime)\n",
        "        speak(strTime)\n",
        "    elif 'toque musica' in text or 'play song' in text:\n",
        "        speak(\"Agora estará tocando...\")\n",
        "        music_dir = \"C:\\\\Users\\\\UserName\\\\Downloads\\\\Music\\\\\" #add your music directory here..\n",
        "        songs = os.listdir(music_dir)\n",
        "        #counter = 0\n",
        "        print(songs)\n",
        "        playmusic(music_dir + \"\\\\\" + songs[0])\n",
        "    elif 'pare a musica' in text:\n",
        "        speak(\"Parando a música.\")\n",
        "        stopmusic()\n",
        "    elif 'sair' in text:\n",
        "        speak(\"Xau, xau, até a próxima\")\n",
        "        exit()\n",
        "#play music\n",
        "def playmusic(song):\n",
        "    mixer.init()\n",
        "    mixer.music.load(song)\n",
        "    mixer.music.play()\n",
        "#stop music\n",
        "def stopmusic():\n",
        "    mixer.music.stop()\n",
        "\n",
        "#let's try it\n",
        "#text = get_audio()\n",
        "#speak(text)\n",
        "while True:\n",
        "    print(\"Estou escutando...\")\n",
        "    text = get_audio()\n",
        "    respond(text)"
      ],
      "metadata": {
        "colab": {
          "base_uri": "https://localhost:8080/",
          "height": 481
        },
        "id": "rY3y3534x3kK",
        "outputId": "2c8f8980-de41-4937-9f8f-0a65f7c87a9a"
      },
      "execution_count": null,
      "outputs": [
        {
          "output_type": "stream",
          "name": "stdout",
          "text": [
            "pygame 2.6.1 (SDL 2.28.4, Python 3.11.11)\n",
            "Hello from the pygame community. https://www.pygame.org/contribute.html\n",
            "Estou escutando...\n"
          ]
        },
        {
          "output_type": "error",
          "ename": "AttributeError",
          "evalue": "Could not find PyAudio; check installation",
          "traceback": [
            "\u001b[0;31m---------------------------------------------------------------------------\u001b[0m",
            "\u001b[0;31mModuleNotFoundError\u001b[0m                       Traceback (most recent call last)",
            "\u001b[0;32m/usr/local/lib/python3.11/dist-packages/speech_recognition/__init__.py\u001b[0m in \u001b[0;36mget_pyaudio\u001b[0;34m()\u001b[0m\n\u001b[1;32m    102\u001b[0m         \u001b[0;32mtry\u001b[0m\u001b[0;34m:\u001b[0m\u001b[0;34m\u001b[0m\u001b[0;34m\u001b[0m\u001b[0m\n\u001b[0;32m--> 103\u001b[0;31m             \u001b[0;32mimport\u001b[0m \u001b[0mpyaudio\u001b[0m\u001b[0;34m\u001b[0m\u001b[0;34m\u001b[0m\u001b[0m\n\u001b[0m\u001b[1;32m    104\u001b[0m         \u001b[0;32mexcept\u001b[0m \u001b[0mImportError\u001b[0m\u001b[0;34m:\u001b[0m\u001b[0;34m\u001b[0m\u001b[0;34m\u001b[0m\u001b[0m\n",
            "\u001b[0;31mModuleNotFoundError\u001b[0m: No module named 'pyaudio'",
            "\nDuring handling of the above exception, another exception occurred:\n",
            "\u001b[0;31mAttributeError\u001b[0m                            Traceback (most recent call last)",
            "\u001b[0;32m<ipython-input-21-4067828e604e>\u001b[0m in \u001b[0;36m<cell line: 0>\u001b[0;34m()\u001b[0m\n\u001b[1;32m     97\u001b[0m \u001b[0;32mwhile\u001b[0m \u001b[0;32mTrue\u001b[0m\u001b[0;34m:\u001b[0m\u001b[0;34m\u001b[0m\u001b[0;34m\u001b[0m\u001b[0m\n\u001b[1;32m     98\u001b[0m     \u001b[0mprint\u001b[0m\u001b[0;34m(\u001b[0m\u001b[0;34m\"Estou escutando...\"\u001b[0m\u001b[0;34m)\u001b[0m\u001b[0;34m\u001b[0m\u001b[0;34m\u001b[0m\u001b[0m\n\u001b[0;32m---> 99\u001b[0;31m     \u001b[0mtext\u001b[0m \u001b[0;34m=\u001b[0m \u001b[0mget_audio\u001b[0m\u001b[0;34m(\u001b[0m\u001b[0;34m)\u001b[0m\u001b[0;34m\u001b[0m\u001b[0;34m\u001b[0m\u001b[0m\n\u001b[0m\u001b[1;32m    100\u001b[0m     \u001b[0mrespond\u001b[0m\u001b[0;34m(\u001b[0m\u001b[0mtext\u001b[0m\u001b[0;34m)\u001b[0m\u001b[0;34m\u001b[0m\u001b[0;34m\u001b[0m\u001b[0m\n",
            "\u001b[0;32m<ipython-input-21-4067828e604e>\u001b[0m in \u001b[0;36mget_audio\u001b[0;34m()\u001b[0m\n\u001b[1;32m     16\u001b[0m \u001b[0;32mdef\u001b[0m \u001b[0mget_audio\u001b[0m\u001b[0;34m(\u001b[0m\u001b[0;34m)\u001b[0m\u001b[0;34m:\u001b[0m\u001b[0;34m\u001b[0m\u001b[0;34m\u001b[0m\u001b[0m\n\u001b[1;32m     17\u001b[0m     \u001b[0mr\u001b[0m \u001b[0;34m=\u001b[0m \u001b[0msr\u001b[0m\u001b[0;34m.\u001b[0m\u001b[0mRecognizer\u001b[0m\u001b[0;34m(\u001b[0m\u001b[0;34m)\u001b[0m\u001b[0;34m\u001b[0m\u001b[0;34m\u001b[0m\u001b[0m\n\u001b[0;32m---> 18\u001b[0;31m     \u001b[0;32mwith\u001b[0m \u001b[0msr\u001b[0m\u001b[0;34m.\u001b[0m\u001b[0mMicrophone\u001b[0m\u001b[0;34m(\u001b[0m\u001b[0;34m)\u001b[0m \u001b[0;32mas\u001b[0m \u001b[0msource\u001b[0m\u001b[0;34m:\u001b[0m\u001b[0;34m\u001b[0m\u001b[0;34m\u001b[0m\u001b[0m\n\u001b[0m\u001b[1;32m     19\u001b[0m         \u001b[0mr\u001b[0m\u001b[0;34m.\u001b[0m\u001b[0mpause_threshold\u001b[0m \u001b[0;34m=\u001b[0m \u001b[0;36m1\u001b[0m\u001b[0;34m\u001b[0m\u001b[0;34m\u001b[0m\u001b[0m\n\u001b[1;32m     20\u001b[0m         \u001b[0;31m# wait for a second to let the recognizer adjust the\u001b[0m\u001b[0;34m\u001b[0m\u001b[0;34m\u001b[0m\u001b[0m\n",
            "\u001b[0;32m/usr/local/lib/python3.11/dist-packages/speech_recognition/__init__.py\u001b[0m in \u001b[0;36m__init__\u001b[0;34m(self, device_index, sample_rate, chunk_size)\u001b[0m\n\u001b[1;32m     73\u001b[0m \u001b[0;34m\u001b[0m\u001b[0m\n\u001b[1;32m     74\u001b[0m         \u001b[0;31m# set up PyAudio\u001b[0m\u001b[0;34m\u001b[0m\u001b[0;34m\u001b[0m\u001b[0m\n\u001b[0;32m---> 75\u001b[0;31m         \u001b[0mself\u001b[0m\u001b[0;34m.\u001b[0m\u001b[0mpyaudio_module\u001b[0m \u001b[0;34m=\u001b[0m \u001b[0mself\u001b[0m\u001b[0;34m.\u001b[0m\u001b[0mget_pyaudio\u001b[0m\u001b[0;34m(\u001b[0m\u001b[0;34m)\u001b[0m\u001b[0;34m\u001b[0m\u001b[0;34m\u001b[0m\u001b[0m\n\u001b[0m\u001b[1;32m     76\u001b[0m         \u001b[0maudio\u001b[0m \u001b[0;34m=\u001b[0m \u001b[0mself\u001b[0m\u001b[0;34m.\u001b[0m\u001b[0mpyaudio_module\u001b[0m\u001b[0;34m.\u001b[0m\u001b[0mPyAudio\u001b[0m\u001b[0;34m(\u001b[0m\u001b[0;34m)\u001b[0m\u001b[0;34m\u001b[0m\u001b[0;34m\u001b[0m\u001b[0m\n\u001b[1;32m     77\u001b[0m         \u001b[0;32mtry\u001b[0m\u001b[0;34m:\u001b[0m\u001b[0;34m\u001b[0m\u001b[0;34m\u001b[0m\u001b[0m\n",
            "\u001b[0;32m/usr/local/lib/python3.11/dist-packages/speech_recognition/__init__.py\u001b[0m in \u001b[0;36mget_pyaudio\u001b[0;34m()\u001b[0m\n\u001b[1;32m    103\u001b[0m             \u001b[0;32mimport\u001b[0m \u001b[0mpyaudio\u001b[0m\u001b[0;34m\u001b[0m\u001b[0;34m\u001b[0m\u001b[0m\n\u001b[1;32m    104\u001b[0m         \u001b[0;32mexcept\u001b[0m \u001b[0mImportError\u001b[0m\u001b[0;34m:\u001b[0m\u001b[0;34m\u001b[0m\u001b[0;34m\u001b[0m\u001b[0m\n\u001b[0;32m--> 105\u001b[0;31m             \u001b[0;32mraise\u001b[0m \u001b[0mAttributeError\u001b[0m\u001b[0;34m(\u001b[0m\u001b[0;34m\"Could not find PyAudio; check installation\"\u001b[0m\u001b[0;34m)\u001b[0m\u001b[0;34m\u001b[0m\u001b[0;34m\u001b[0m\u001b[0m\n\u001b[0m\u001b[1;32m    106\u001b[0m         \u001b[0;32mreturn\u001b[0m \u001b[0mpyaudio\u001b[0m\u001b[0;34m\u001b[0m\u001b[0;34m\u001b[0m\u001b[0m\n\u001b[1;32m    107\u001b[0m \u001b[0;34m\u001b[0m\u001b[0m\n",
            "\u001b[0;31mAttributeError\u001b[0m: Could not find PyAudio; check installation"
          ]
        }
      ]
    }
  ]
}